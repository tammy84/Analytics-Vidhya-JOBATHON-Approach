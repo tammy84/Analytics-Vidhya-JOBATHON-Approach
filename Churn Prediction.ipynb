{
 "cells": [
  {
   "cell_type": "code",
   "execution_count": 1,
   "id": "3e0a7eb8",
   "metadata": {},
   "outputs": [],
   "source": [
    "#Import necessary libraries\n",
    "import numpy as np\n",
    "import pandas as pd\n",
    "import seaborn as sns\n",
    "import matplotlib.pyplot as plt\n",
    "from scipy.stats import norm\n",
    "import statistics\n",
    "from sklearn.preprocessing import LabelEncoder\n",
    "from sklearn.svm import SVC, LinearSVC \n",
    "from sklearn.metrics import accuracy_score\n",
    "from sklearn import metrics"
   ]
  },
  {
   "cell_type": "code",
   "execution_count": 4,
   "id": "2c2f40a3",
   "metadata": {},
   "outputs": [],
   "source": [
    "#read the test and train files and view\n",
    "traindf= pd.read_csv(\"train_PDjVQMB.csv\")"
   ]
  },
  {
   "cell_type": "code",
   "execution_count": 5,
   "id": "91d17c8e",
   "metadata": {},
   "outputs": [],
   "source": [
    "testdf= pd.read_csv(\"test_lTY72QC.csv\")"
   ]
  },
  {
   "cell_type": "code",
   "execution_count": 6,
   "id": "dd359d87",
   "metadata": {},
   "outputs": [
    {
     "data": {
      "text/html": [
       "<div>\n",
       "<style scoped>\n",
       "    .dataframe tbody tr th:only-of-type {\n",
       "        vertical-align: middle;\n",
       "    }\n",
       "\n",
       "    .dataframe tbody tr th {\n",
       "        vertical-align: top;\n",
       "    }\n",
       "\n",
       "    .dataframe thead th {\n",
       "        text-align: right;\n",
       "    }\n",
       "</style>\n",
       "<table border=\"1\" class=\"dataframe\">\n",
       "  <thead>\n",
       "    <tr style=\"text-align: right;\">\n",
       "      <th></th>\n",
       "      <th>ID</th>\n",
       "      <th>Age</th>\n",
       "      <th>Gender</th>\n",
       "      <th>Income</th>\n",
       "      <th>Balance</th>\n",
       "      <th>Vintage</th>\n",
       "      <th>Transaction_Status</th>\n",
       "      <th>Product_Holdings</th>\n",
       "      <th>Credit_Card</th>\n",
       "      <th>Credit_Category</th>\n",
       "      <th>Is_Churn</th>\n",
       "    </tr>\n",
       "  </thead>\n",
       "  <tbody>\n",
       "    <tr>\n",
       "      <th>0</th>\n",
       "      <td>84e2fcc9</td>\n",
       "      <td>36</td>\n",
       "      <td>Female</td>\n",
       "      <td>5L-10L</td>\n",
       "      <td>563266.44</td>\n",
       "      <td>4</td>\n",
       "      <td>0</td>\n",
       "      <td>1</td>\n",
       "      <td>0</td>\n",
       "      <td>Average</td>\n",
       "      <td>1</td>\n",
       "    </tr>\n",
       "    <tr>\n",
       "      <th>1</th>\n",
       "      <td>57fea15e</td>\n",
       "      <td>53</td>\n",
       "      <td>Female</td>\n",
       "      <td>Less than 5L</td>\n",
       "      <td>875572.11</td>\n",
       "      <td>2</td>\n",
       "      <td>1</td>\n",
       "      <td>1</td>\n",
       "      <td>1</td>\n",
       "      <td>Poor</td>\n",
       "      <td>0</td>\n",
       "    </tr>\n",
       "    <tr>\n",
       "      <th>2</th>\n",
       "      <td>8df34ef3</td>\n",
       "      <td>35</td>\n",
       "      <td>Female</td>\n",
       "      <td>More than 15L</td>\n",
       "      <td>701607.06</td>\n",
       "      <td>2</td>\n",
       "      <td>1</td>\n",
       "      <td>2</td>\n",
       "      <td>0</td>\n",
       "      <td>Poor</td>\n",
       "      <td>0</td>\n",
       "    </tr>\n",
       "    <tr>\n",
       "      <th>3</th>\n",
       "      <td>c5c0788b</td>\n",
       "      <td>43</td>\n",
       "      <td>Female</td>\n",
       "      <td>More than 15L</td>\n",
       "      <td>1393922.16</td>\n",
       "      <td>0</td>\n",
       "      <td>1</td>\n",
       "      <td>2</td>\n",
       "      <td>1</td>\n",
       "      <td>Poor</td>\n",
       "      <td>1</td>\n",
       "    </tr>\n",
       "    <tr>\n",
       "      <th>4</th>\n",
       "      <td>951d69c4</td>\n",
       "      <td>39</td>\n",
       "      <td>Female</td>\n",
       "      <td>More than 15L</td>\n",
       "      <td>893146.23</td>\n",
       "      <td>1</td>\n",
       "      <td>1</td>\n",
       "      <td>1</td>\n",
       "      <td>1</td>\n",
       "      <td>Good</td>\n",
       "      <td>1</td>\n",
       "    </tr>\n",
       "  </tbody>\n",
       "</table>\n",
       "</div>"
      ],
      "text/plain": [
       "         ID  Age  Gender         Income     Balance  Vintage  \\\n",
       "0  84e2fcc9   36  Female         5L-10L   563266.44        4   \n",
       "1  57fea15e   53  Female   Less than 5L   875572.11        2   \n",
       "2  8df34ef3   35  Female  More than 15L   701607.06        2   \n",
       "3  c5c0788b   43  Female  More than 15L  1393922.16        0   \n",
       "4  951d69c4   39  Female  More than 15L   893146.23        1   \n",
       "\n",
       "   Transaction_Status Product_Holdings  Credit_Card Credit_Category  Is_Churn  \n",
       "0                   0                1            0         Average         1  \n",
       "1                   1                1            1            Poor         0  \n",
       "2                   1                2            0            Poor         0  \n",
       "3                   1                2            1            Poor         1  \n",
       "4                   1                1            1            Good         1  "
      ]
     },
     "execution_count": 6,
     "metadata": {},
     "output_type": "execute_result"
    }
   ],
   "source": [
    "traindf.head()"
   ]
  },
  {
   "cell_type": "code",
   "execution_count": 7,
   "id": "86d2b033",
   "metadata": {},
   "outputs": [
    {
     "data": {
      "text/html": [
       "<div>\n",
       "<style scoped>\n",
       "    .dataframe tbody tr th:only-of-type {\n",
       "        vertical-align: middle;\n",
       "    }\n",
       "\n",
       "    .dataframe tbody tr th {\n",
       "        vertical-align: top;\n",
       "    }\n",
       "\n",
       "    .dataframe thead th {\n",
       "        text-align: right;\n",
       "    }\n",
       "</style>\n",
       "<table border=\"1\" class=\"dataframe\">\n",
       "  <thead>\n",
       "    <tr style=\"text-align: right;\">\n",
       "      <th></th>\n",
       "      <th>ID</th>\n",
       "      <th>Age</th>\n",
       "      <th>Gender</th>\n",
       "      <th>Income</th>\n",
       "      <th>Balance</th>\n",
       "      <th>Vintage</th>\n",
       "      <th>Transaction_Status</th>\n",
       "      <th>Product_Holdings</th>\n",
       "      <th>Credit_Card</th>\n",
       "      <th>Credit_Category</th>\n",
       "    </tr>\n",
       "  </thead>\n",
       "  <tbody>\n",
       "    <tr>\n",
       "      <th>0</th>\n",
       "      <td>55480787</td>\n",
       "      <td>50</td>\n",
       "      <td>Female</td>\n",
       "      <td>More than 15L</td>\n",
       "      <td>1008636.39</td>\n",
       "      <td>2</td>\n",
       "      <td>1</td>\n",
       "      <td>2</td>\n",
       "      <td>1</td>\n",
       "      <td>Average</td>\n",
       "    </tr>\n",
       "    <tr>\n",
       "      <th>1</th>\n",
       "      <td>9aededf2</td>\n",
       "      <td>36</td>\n",
       "      <td>Male</td>\n",
       "      <td>5L - 10L</td>\n",
       "      <td>341460.72</td>\n",
       "      <td>2</td>\n",
       "      <td>0</td>\n",
       "      <td>2</td>\n",
       "      <td>1</td>\n",
       "      <td>Average</td>\n",
       "    </tr>\n",
       "    <tr>\n",
       "      <th>2</th>\n",
       "      <td>a5034a09</td>\n",
       "      <td>25</td>\n",
       "      <td>Female</td>\n",
       "      <td>10L - 15L</td>\n",
       "      <td>439460.10</td>\n",
       "      <td>0</td>\n",
       "      <td>0</td>\n",
       "      <td>2</td>\n",
       "      <td>1</td>\n",
       "      <td>Good</td>\n",
       "    </tr>\n",
       "    <tr>\n",
       "      <th>3</th>\n",
       "      <td>b3256702</td>\n",
       "      <td>41</td>\n",
       "      <td>Male</td>\n",
       "      <td>Less than 5L</td>\n",
       "      <td>28581.93</td>\n",
       "      <td>0</td>\n",
       "      <td>1</td>\n",
       "      <td>2</td>\n",
       "      <td>1</td>\n",
       "      <td>Poor</td>\n",
       "    </tr>\n",
       "    <tr>\n",
       "      <th>4</th>\n",
       "      <td>dc28adb5</td>\n",
       "      <td>48</td>\n",
       "      <td>Male</td>\n",
       "      <td>More than 15L</td>\n",
       "      <td>1104540.03</td>\n",
       "      <td>2</td>\n",
       "      <td>1</td>\n",
       "      <td>3+</td>\n",
       "      <td>0</td>\n",
       "      <td>Good</td>\n",
       "    </tr>\n",
       "  </tbody>\n",
       "</table>\n",
       "</div>"
      ],
      "text/plain": [
       "         ID  Age  Gender         Income     Balance  Vintage  \\\n",
       "0  55480787   50  Female  More than 15L  1008636.39        2   \n",
       "1  9aededf2   36    Male       5L - 10L   341460.72        2   \n",
       "2  a5034a09   25  Female      10L - 15L   439460.10        0   \n",
       "3  b3256702   41    Male   Less than 5L    28581.93        0   \n",
       "4  dc28adb5   48    Male  More than 15L  1104540.03        2   \n",
       "\n",
       "   Transaction_Status Product_Holdings  Credit_Card Credit_Category  \n",
       "0                   1                2            1         Average  \n",
       "1                   0                2            1         Average  \n",
       "2                   0                2            1            Good  \n",
       "3                   1                2            1            Poor  \n",
       "4                   1               3+            0            Good  "
      ]
     },
     "execution_count": 7,
     "metadata": {},
     "output_type": "execute_result"
    }
   ],
   "source": [
    "testdf.head()"
   ]
  },
  {
   "cell_type": "markdown",
   "id": "b8a7d94f",
   "metadata": {},
   "source": [
    "#Exploratory Analysis of the Train dataset"
   ]
  },
  {
   "cell_type": "code",
   "execution_count": 9,
   "id": "8b1fdf82",
   "metadata": {},
   "outputs": [
    {
     "name": "stdout",
     "output_type": "stream",
     "text": [
      "<class 'pandas.core.frame.DataFrame'>\n",
      "RangeIndex: 6650 entries, 0 to 6649\n",
      "Data columns (total 11 columns):\n",
      " #   Column              Non-Null Count  Dtype  \n",
      "---  ------              --------------  -----  \n",
      " 0   ID                  6650 non-null   object \n",
      " 1   Age                 6650 non-null   int64  \n",
      " 2   Gender              6650 non-null   object \n",
      " 3   Income              6650 non-null   object \n",
      " 4   Balance             6650 non-null   float64\n",
      " 5   Vintage             6650 non-null   int64  \n",
      " 6   Transaction_Status  6650 non-null   int64  \n",
      " 7   Product_Holdings    6650 non-null   object \n",
      " 8   Credit_Card         6650 non-null   int64  \n",
      " 9   Credit_Category     6650 non-null   object \n",
      " 10  Is_Churn            6650 non-null   int64  \n",
      "dtypes: float64(1), int64(5), object(5)\n",
      "memory usage: 571.6+ KB\n",
      "<class 'pandas.core.frame.DataFrame'>\n",
      "RangeIndex: 2851 entries, 0 to 2850\n",
      "Data columns (total 10 columns):\n",
      " #   Column              Non-Null Count  Dtype  \n",
      "---  ------              --------------  -----  \n",
      " 0   ID                  2851 non-null   object \n",
      " 1   Age                 2851 non-null   int64  \n",
      " 2   Gender              2851 non-null   object \n",
      " 3   Income              2851 non-null   object \n",
      " 4   Balance             2851 non-null   float64\n",
      " 5   Vintage             2851 non-null   int64  \n",
      " 6   Transaction_Status  2851 non-null   int64  \n",
      " 7   Product_Holdings    2851 non-null   object \n",
      " 8   Credit_Card         2851 non-null   int64  \n",
      " 9   Credit_Category     2851 non-null   object \n",
      "dtypes: float64(1), int64(4), object(5)\n",
      "memory usage: 222.9+ KB\n"
     ]
    }
   ],
   "source": [
    "traindf.info()\n",
    "testdf.info()"
   ]
  },
  {
   "cell_type": "code",
   "execution_count": 63,
   "id": "9121662e",
   "metadata": {},
   "outputs": [
    {
     "data": {
      "text/html": [
       "<div>\n",
       "<style scoped>\n",
       "    .dataframe tbody tr th:only-of-type {\n",
       "        vertical-align: middle;\n",
       "    }\n",
       "\n",
       "    .dataframe tbody tr th {\n",
       "        vertical-align: top;\n",
       "    }\n",
       "\n",
       "    .dataframe thead th {\n",
       "        text-align: right;\n",
       "    }\n",
       "</style>\n",
       "<table border=\"1\" class=\"dataframe\">\n",
       "  <thead>\n",
       "    <tr style=\"text-align: right;\">\n",
       "      <th></th>\n",
       "      <th>Age</th>\n",
       "      <th>Balance</th>\n",
       "      <th>Vintage</th>\n",
       "      <th>Transaction_Status</th>\n",
       "      <th>Credit_Card</th>\n",
       "    </tr>\n",
       "  </thead>\n",
       "  <tbody>\n",
       "    <tr>\n",
       "      <th>count</th>\n",
       "      <td>2851.000000</td>\n",
       "      <td>2.851000e+03</td>\n",
       "      <td>2851.000000</td>\n",
       "      <td>2851.000000</td>\n",
       "      <td>2851.000000</td>\n",
       "    </tr>\n",
       "    <tr>\n",
       "      <th>mean</th>\n",
       "      <td>41.252192</td>\n",
       "      <td>8.098990e+05</td>\n",
       "      <td>2.220975</td>\n",
       "      <td>0.506840</td>\n",
       "      <td>0.668888</td>\n",
       "    </tr>\n",
       "    <tr>\n",
       "      <th>std</th>\n",
       "      <td>9.616756</td>\n",
       "      <td>5.252003e+05</td>\n",
       "      <td>1.489941</td>\n",
       "      <td>0.500041</td>\n",
       "      <td>0.470696</td>\n",
       "    </tr>\n",
       "    <tr>\n",
       "      <th>min</th>\n",
       "      <td>21.000000</td>\n",
       "      <td>1.503000e+03</td>\n",
       "      <td>0.000000</td>\n",
       "      <td>0.000000</td>\n",
       "      <td>0.000000</td>\n",
       "    </tr>\n",
       "    <tr>\n",
       "      <th>25%</th>\n",
       "      <td>34.000000</td>\n",
       "      <td>4.009684e+05</td>\n",
       "      <td>1.000000</td>\n",
       "      <td>0.000000</td>\n",
       "      <td>0.000000</td>\n",
       "    </tr>\n",
       "    <tr>\n",
       "      <th>50%</th>\n",
       "      <td>40.000000</td>\n",
       "      <td>7.659125e+05</td>\n",
       "      <td>2.000000</td>\n",
       "      <td>1.000000</td>\n",
       "      <td>1.000000</td>\n",
       "    </tr>\n",
       "    <tr>\n",
       "      <th>75%</th>\n",
       "      <td>47.000000</td>\n",
       "      <td>1.154238e+06</td>\n",
       "      <td>3.000000</td>\n",
       "      <td>1.000000</td>\n",
       "      <td>1.000000</td>\n",
       "    </tr>\n",
       "    <tr>\n",
       "      <th>max</th>\n",
       "      <td>72.000000</td>\n",
       "      <td>2.434834e+06</td>\n",
       "      <td>5.000000</td>\n",
       "      <td>1.000000</td>\n",
       "      <td>1.000000</td>\n",
       "    </tr>\n",
       "  </tbody>\n",
       "</table>\n",
       "</div>"
      ],
      "text/plain": [
       "               Age       Balance      Vintage  Transaction_Status  Credit_Card\n",
       "count  2851.000000  2.851000e+03  2851.000000         2851.000000  2851.000000\n",
       "mean     41.252192  8.098990e+05     2.220975            0.506840     0.668888\n",
       "std       9.616756  5.252003e+05     1.489941            0.500041     0.470696\n",
       "min      21.000000  1.503000e+03     0.000000            0.000000     0.000000\n",
       "25%      34.000000  4.009684e+05     1.000000            0.000000     0.000000\n",
       "50%      40.000000  7.659125e+05     2.000000            1.000000     1.000000\n",
       "75%      47.000000  1.154238e+06     3.000000            1.000000     1.000000\n",
       "max      72.000000  2.434834e+06     5.000000            1.000000     1.000000"
      ]
     },
     "execution_count": 63,
     "metadata": {},
     "output_type": "execute_result"
    }
   ],
   "source": [
    "testdf.describe()\n",
    "traindf.describe()"
   ]
  },
  {
   "cell_type": "code",
   "execution_count": 11,
   "id": "8d11f802",
   "metadata": {},
   "outputs": [
    {
     "data": {
      "text/plain": [
       "<seaborn.axisgrid.FacetGrid at 0x2708520b7c0>"
      ]
     },
     "execution_count": 11,
     "metadata": {},
     "output_type": "execute_result"
    },
    {
     "data": {
      "image/png": "[encoded data removed]",
      "text/plain": [
       "<Figure size 504x360 with 1 Axes>"
      ]
     },
     "metadata": {
      "needs_background": "light"
     },
     "output_type": "display_data"
    }
   ],
   "source": [
    "#to visualize the spread of the data in the Age column\n",
    "sns.displot(\n",
    "  data=traindf,\n",
    "  x=\"Age\",\n",
    "  kind=\"kde\",\n",
    "  aspect=1.4)"
   ]
  },
  {
   "cell_type": "code",
   "execution_count": 12,
   "id": "5d6bddc5",
   "metadata": {},
   "outputs": [
    {
     "data": {
      "text/plain": [
       "<seaborn.axisgrid.FacetGrid at 0x270ffa2a940>"
      ]
     },
     "execution_count": 12,
     "metadata": {},
     "output_type": "execute_result"
    },
    {
     "data": {
      "image/png": "[encoded data removed]",
      "text/plain": [
       "<Figure size 504x360 with 1 Axes>"
      ]
     },
     "metadata": {
      "needs_background": "light"
     },
     "output_type": "display_data"
    }
   ],
   "source": [
    "sns.displot(\n",
    "  data=traindf,\n",
    "  x=\"Balance\",\n",
    "  kind=\"kde\",\n",
    "  aspect=1.4)"
   ]
  },
  {
   "cell_type": "code",
   "execution_count": 13,
   "id": "3e361256",
   "metadata": {},
   "outputs": [
    {
     "data": {
      "text/plain": [
       "<seaborn.axisgrid.FacetGrid at 0x270ffa2aa90>"
      ]
     },
     "execution_count": 13,
     "metadata": {},
     "output_type": "execute_result"
    },
    {
     "data": {
      "image/png": "[encoded data removed]",
      "text/plain": [
       "<Figure size 504x360 with 1 Axes>"
      ]
     },
     "metadata": {
      "needs_background": "light"
     },
     "output_type": "display_data"
    }
   ],
   "source": [
    "sns.displot(\n",
    "  data=traindf,\n",
    "  x=\"Age\",\n",
    "  kind=\"hist\",\n",
    "  aspect=1.4)"
   ]
  },
  {
   "cell_type": "markdown",
   "id": "6e114d5f",
   "metadata": {},
   "source": [
    "#Data Preposessing and further exploration"
   ]
  },
  {
   "cell_type": "code",
   "execution_count": 15,
   "id": "74aa0d9e",
   "metadata": {},
   "outputs": [],
   "source": [
    "traindf['Age_Category'] =['GenX' if 19<age<30 else 'yongstar' if 29<age<40 else 'BabyBoomers'\n",
    "                        if 39<age<50 else 'Genold' if 49<age<100 else None\n",
    "                        for age in list(traindf['Age'].values)]"
   ]
  },
  {
   "cell_type": "code",
   "execution_count": 64,
   "id": "dcac3569",
   "metadata": {},
   "outputs": [],
   "source": [
    "testdf['Age_Category'] =['GenX' if 19<age<30 else 'yongstar' if 29<age<40 else 'BabyBoomers'\n",
    "                        if 39<age<50 else 'Genold' if 49<age<100 else None\n",
    "                        for age in list(testdf['Age'].values)]"
   ]
  },
  {
   "cell_type": "code",
   "execution_count": 17,
   "id": "e2871309",
   "metadata": {},
   "outputs": [
    {
     "data": {
      "text/plain": [
       "1     3200\n",
       "2     3182\n",
       "3+     268\n",
       "Name: Product_Holdings, dtype: int64"
      ]
     },
     "execution_count": 17,
     "metadata": {},
     "output_type": "execute_result"
    }
   ],
   "source": [
    "traindf['Age_Category'].value_counts()\n",
    "traindf['Product_Holdings'].value_counts()"
   ]
  },
  {
   "cell_type": "code",
   "execution_count": 16,
   "id": "83e669c4",
   "metadata": {},
   "outputs": [
    {
     "data": {
      "image/png": "[encoded data removed]",
      "text/plain": [
       "<Figure size 1080x2160 with 8 Axes>"
      ]
     },
     "metadata": {
      "needs_background": "light"
     },
     "output_type": "display_data"
    }
   ],
   "source": [
    "features=['Gender','Income','Vintage','Product_Holdings','Credit_Category','Credit_Card','Age_Category','Transaction_Status']\n",
    "fig=plt.subplots(figsize=(15,30))\n",
    "\n",
    "for i, j in enumerate(features):\n",
    "    plt.subplot(4, 2, i+1)\n",
    "    plt.subplots_adjust(hspace = 1.0)\n",
    "    ax=sns.countplot(x=j,data = traindf, hue='Is_Churn')\n",
    "    plt.xticks(rotation=90)\n",
    "    plt.grid()\n",
    "    plt.title(\"No. of Customers\")\n",
    "    for p in ax.patches:\n",
    "        ax.annotate('{}'.format(p.get_height()), (p.get_x()+0.1, p.get_height()+0.01))"
   ]
  },
  {
   "cell_type": "markdown",
   "id": "f59c8d0a",
   "metadata": {},
   "source": [
    "#data enconding of the categorial data"
   ]
  },
  {
   "cell_type": "code",
   "execution_count": 20,
   "id": "30c2f149",
   "metadata": {},
   "outputs": [],
   "source": [
    "encoder=LabelEncoder() \n",
    "traindf.Gender=encoder.fit_transform(traindf.Gender) \n",
    "traindf.Product_Holdings=encoder.fit_transform(traindf.Product_Holdings)"
   ]
  },
  {
   "cell_type": "code",
   "execution_count": 65,
   "id": "9983b588",
   "metadata": {},
   "outputs": [],
   "source": [
    "encoder=LabelEncoder() \n",
    "testdf.Gender=encoder.fit_transform(testdf.Gender) \n",
    "testdf.Product_Holdings=encoder.fit_transform(testdf.Product_Holdings)"
   ]
  },
  {
   "cell_type": "code",
   "execution_count": 21,
   "id": "d049fa9c",
   "metadata": {},
   "outputs": [],
   "source": [
    "from sklearn.preprocessing import OneHotEncoder \n",
    "enc = OneHotEncoder(handle_unknown='ignore') \n",
    "enc_df = pd.DataFrame(enc.fit_transform(traindf[['Income']]).toarray())\n",
    "traindf = traindf.join(enc_df)"
   ]
  },
  {
   "cell_type": "code",
   "execution_count": 22,
   "id": "d9ee4eb7",
   "metadata": {},
   "outputs": [],
   "source": [
    "traindf.rename({0: '10L-15L', 1: '5L-10L', 2:'Less than 5L', 3:'More than 15L'}, axis=1, inplace=True)"
   ]
  },
  {
   "cell_type": "code",
   "execution_count": 66,
   "id": "db8166f4",
   "metadata": {},
   "outputs": [],
   "source": [
    "from sklearn.preprocessing import OneHotEncoder \n",
    "enc = OneHotEncoder(handle_unknown='ignore') \n",
    "enc_df = pd.DataFrame(enc.fit_transform(testdf[['Income']]).toarray())\n",
    "testdf = testdf.join(enc_df)"
   ]
  },
  {
   "cell_type": "code",
   "execution_count": 67,
   "id": "9590f880",
   "metadata": {},
   "outputs": [],
   "source": [
    "testdf.rename({0: '10L-15L', 1: '5L-10L', 2:'Less than 5L', 3:'More than 15L'}, axis=1, inplace=True)"
   ]
  },
  {
   "cell_type": "code",
   "execution_count": 23,
   "id": "2345df7e",
   "metadata": {},
   "outputs": [],
   "source": [
    "from sklearn.preprocessing import OneHotEncoder \n",
    "enc = OneHotEncoder(handle_unknown='ignore') \n",
    "enc_df = pd.DataFrame(enc.fit_transform(traindf[['Age_Category']]).toarray())\n",
    "traindf = traindf.join(enc_df)"
   ]
  },
  {
   "cell_type": "code",
   "execution_count": 24,
   "id": "6a39aa38",
   "metadata": {},
   "outputs": [],
   "source": [
    "traindf.rename({0: 'BabyBoomers', 1: 'GenX', 2:'Genold', 3:'yongstar'}, axis=1, inplace=True)"
   ]
  },
  {
   "cell_type": "code",
   "execution_count": 68,
   "id": "9d2068db",
   "metadata": {},
   "outputs": [],
   "source": [
    "from sklearn.preprocessing import OneHotEncoder \n",
    "enc = OneHotEncoder(handle_unknown='ignore') \n",
    "enc_df = pd.DataFrame(enc.fit_transform(testdf[['Age_Category']]).toarray())\n",
    "testdf = testdf.join(enc_df)"
   ]
  },
  {
   "cell_type": "code",
   "execution_count": 69,
   "id": "378a0a51",
   "metadata": {},
   "outputs": [],
   "source": [
    "testdf.rename({0: 'BabyBoomers', 1: 'GenX', 2:'Genold', 3:'yongstar'}, axis=1, inplace=True)"
   ]
  },
  {
   "cell_type": "code",
   "execution_count": 25,
   "id": "1efbb51f",
   "metadata": {},
   "outputs": [],
   "source": [
    "from sklearn.preprocessing import OneHotEncoder \n",
    "enc = OneHotEncoder(handle_unknown='ignore') \n",
    "enc_df = pd.DataFrame(enc.fit_transform(traindf[['Credit_Category']]).toarray())\n",
    "traindf = traindf.join(enc_df)"
   ]
  },
  {
   "cell_type": "code",
   "execution_count": 26,
   "id": "011cb68b",
   "metadata": {},
   "outputs": [],
   "source": [
    "traindf.rename({0: 'Average', 1: 'Good', 2:'Poor'}, axis=1, inplace=True)"
   ]
  },
  {
   "cell_type": "code",
   "execution_count": 70,
   "id": "dd6407f0",
   "metadata": {},
   "outputs": [],
   "source": [
    "from sklearn.preprocessing import OneHotEncoder \n",
    "enc = OneHotEncoder(handle_unknown='ignore') \n",
    "enc_df = pd.DataFrame(enc.fit_transform(testdf[['Credit_Category']]).toarray())\n",
    "testdf = testdf.join(enc_df)"
   ]
  },
  {
   "cell_type": "code",
   "execution_count": 71,
   "id": "fb2e07e2",
   "metadata": {},
   "outputs": [],
   "source": [
    "testdf.rename({0: 'Average', 1: 'Good', 2:'Poor'}, axis=1, inplace=True)"
   ]
  },
  {
   "cell_type": "code",
   "execution_count": 27,
   "id": "14b37827",
   "metadata": {},
   "outputs": [
    {
     "data": {
      "text/html": [
       "<div>\n",
       "<style scoped>\n",
       "    .dataframe tbody tr th:only-of-type {\n",
       "        vertical-align: middle;\n",
       "    }\n",
       "\n",
       "    .dataframe tbody tr th {\n",
       "        vertical-align: top;\n",
       "    }\n",
       "\n",
       "    .dataframe thead th {\n",
       "        text-align: right;\n",
       "    }\n",
       "</style>\n",
       "<table border=\"1\" class=\"dataframe\">\n",
       "  <thead>\n",
       "    <tr style=\"text-align: right;\">\n",
       "      <th></th>\n",
       "      <th>ID</th>\n",
       "      <th>Age</th>\n",
       "      <th>Gender</th>\n",
       "      <th>Income</th>\n",
       "      <th>Balance</th>\n",
       "      <th>Vintage</th>\n",
       "      <th>Transaction_Status</th>\n",
       "      <th>Product_Holdings</th>\n",
       "      <th>Credit_Card</th>\n",
       "      <th>Credit_Category</th>\n",
       "      <th>...</th>\n",
       "      <th>5L-10L</th>\n",
       "      <th>Less than 5L</th>\n",
       "      <th>More than 15L</th>\n",
       "      <th>BabyBoomers</th>\n",
       "      <th>GenX</th>\n",
       "      <th>Genold</th>\n",
       "      <th>yongstar</th>\n",
       "      <th>Average</th>\n",
       "      <th>Good</th>\n",
       "      <th>Poor</th>\n",
       "    </tr>\n",
       "  </thead>\n",
       "  <tbody>\n",
       "    <tr>\n",
       "      <th>0</th>\n",
       "      <td>84e2fcc9</td>\n",
       "      <td>36</td>\n",
       "      <td>0</td>\n",
       "      <td>5L-10L</td>\n",
       "      <td>563266.44</td>\n",
       "      <td>4</td>\n",
       "      <td>0</td>\n",
       "      <td>0</td>\n",
       "      <td>0</td>\n",
       "      <td>Average</td>\n",
       "      <td>...</td>\n",
       "      <td>1.0</td>\n",
       "      <td>0.0</td>\n",
       "      <td>0.0</td>\n",
       "      <td>0.0</td>\n",
       "      <td>0.0</td>\n",
       "      <td>0.0</td>\n",
       "      <td>1.0</td>\n",
       "      <td>1.0</td>\n",
       "      <td>0.0</td>\n",
       "      <td>0.0</td>\n",
       "    </tr>\n",
       "    <tr>\n",
       "      <th>1</th>\n",
       "      <td>57fea15e</td>\n",
       "      <td>53</td>\n",
       "      <td>0</td>\n",
       "      <td>Less than 5L</td>\n",
       "      <td>875572.11</td>\n",
       "      <td>2</td>\n",
       "      <td>1</td>\n",
       "      <td>0</td>\n",
       "      <td>1</td>\n",
       "      <td>Poor</td>\n",
       "      <td>...</td>\n",
       "      <td>0.0</td>\n",
       "      <td>1.0</td>\n",
       "      <td>0.0</td>\n",
       "      <td>0.0</td>\n",
       "      <td>0.0</td>\n",
       "      <td>1.0</td>\n",
       "      <td>0.0</td>\n",
       "      <td>0.0</td>\n",
       "      <td>0.0</td>\n",
       "      <td>1.0</td>\n",
       "    </tr>\n",
       "    <tr>\n",
       "      <th>2</th>\n",
       "      <td>8df34ef3</td>\n",
       "      <td>35</td>\n",
       "      <td>0</td>\n",
       "      <td>More than 15L</td>\n",
       "      <td>701607.06</td>\n",
       "      <td>2</td>\n",
       "      <td>1</td>\n",
       "      <td>1</td>\n",
       "      <td>0</td>\n",
       "      <td>Poor</td>\n",
       "      <td>...</td>\n",
       "      <td>0.0</td>\n",
       "      <td>0.0</td>\n",
       "      <td>1.0</td>\n",
       "      <td>0.0</td>\n",
       "      <td>0.0</td>\n",
       "      <td>0.0</td>\n",
       "      <td>1.0</td>\n",
       "      <td>0.0</td>\n",
       "      <td>0.0</td>\n",
       "      <td>1.0</td>\n",
       "    </tr>\n",
       "    <tr>\n",
       "      <th>3</th>\n",
       "      <td>c5c0788b</td>\n",
       "      <td>43</td>\n",
       "      <td>0</td>\n",
       "      <td>More than 15L</td>\n",
       "      <td>1393922.16</td>\n",
       "      <td>0</td>\n",
       "      <td>1</td>\n",
       "      <td>1</td>\n",
       "      <td>1</td>\n",
       "      <td>Poor</td>\n",
       "      <td>...</td>\n",
       "      <td>0.0</td>\n",
       "      <td>0.0</td>\n",
       "      <td>1.0</td>\n",
       "      <td>1.0</td>\n",
       "      <td>0.0</td>\n",
       "      <td>0.0</td>\n",
       "      <td>0.0</td>\n",
       "      <td>0.0</td>\n",
       "      <td>0.0</td>\n",
       "      <td>1.0</td>\n",
       "    </tr>\n",
       "    <tr>\n",
       "      <th>4</th>\n",
       "      <td>951d69c4</td>\n",
       "      <td>39</td>\n",
       "      <td>0</td>\n",
       "      <td>More than 15L</td>\n",
       "      <td>893146.23</td>\n",
       "      <td>1</td>\n",
       "      <td>1</td>\n",
       "      <td>0</td>\n",
       "      <td>1</td>\n",
       "      <td>Good</td>\n",
       "      <td>...</td>\n",
       "      <td>0.0</td>\n",
       "      <td>0.0</td>\n",
       "      <td>1.0</td>\n",
       "      <td>0.0</td>\n",
       "      <td>0.0</td>\n",
       "      <td>0.0</td>\n",
       "      <td>1.0</td>\n",
       "      <td>0.0</td>\n",
       "      <td>1.0</td>\n",
       "      <td>0.0</td>\n",
       "    </tr>\n",
       "  </tbody>\n",
       "</table>\n",
       "<p>5 rows × 23 columns</p>\n",
       "</div>"
      ],
      "text/plain": [
       "         ID  Age  Gender         Income     Balance  Vintage  \\\n",
       "0  84e2fcc9   36       0         5L-10L   563266.44        4   \n",
       "1  57fea15e   53       0   Less than 5L   875572.11        2   \n",
       "2  8df34ef3   35       0  More than 15L   701607.06        2   \n",
       "3  c5c0788b   43       0  More than 15L  1393922.16        0   \n",
       "4  951d69c4   39       0  More than 15L   893146.23        1   \n",
       "\n",
       "   Transaction_Status  Product_Holdings  Credit_Card Credit_Category  ...  \\\n",
       "0                   0                 0            0         Average  ...   \n",
       "1                   1                 0            1            Poor  ...   \n",
       "2                   1                 1            0            Poor  ...   \n",
       "3                   1                 1            1            Poor  ...   \n",
       "4                   1                 0            1            Good  ...   \n",
       "\n",
       "   5L-10L Less than 5L  More than 15L  BabyBoomers  GenX  Genold  yongstar  \\\n",
       "0     1.0          0.0            0.0          0.0   0.0     0.0       1.0   \n",
       "1     0.0          1.0            0.0          0.0   0.0     1.0       0.0   \n",
       "2     0.0          0.0            1.0          0.0   0.0     0.0       1.0   \n",
       "3     0.0          0.0            1.0          1.0   0.0     0.0       0.0   \n",
       "4     0.0          0.0            1.0          0.0   0.0     0.0       1.0   \n",
       "\n",
       "   Average  Good  Poor  \n",
       "0      1.0   0.0   0.0  \n",
       "1      0.0   0.0   1.0  \n",
       "2      0.0   0.0   1.0  \n",
       "3      0.0   0.0   1.0  \n",
       "4      0.0   1.0   0.0  \n",
       "\n",
       "[5 rows x 23 columns]"
      ]
     },
     "execution_count": 27,
     "metadata": {},
     "output_type": "execute_result"
    }
   ],
   "source": [
    "traindf.head()"
   ]
  },
  {
   "cell_type": "markdown",
   "id": "a90a7905",
   "metadata": {},
   "source": [
    "#splitting the train dataset for model preparation"
   ]
  },
  {
   "cell_type": "code",
   "execution_count": 29,
   "id": "f3f3ee0d",
   "metadata": {},
   "outputs": [],
   "source": [
    "y= traindf[\"Is_Churn\"]\n",
    "x= traindf.drop([\"Is_Churn\",'Income','Age_Category','Credit_Category','ID'], axis=1)"
   ]
  },
  {
   "cell_type": "code",
   "execution_count": 74,
   "id": "b7521bd3",
   "metadata": {},
   "outputs": [],
   "source": [
    "testdf=testdf.drop(['Income','Age_Category','Credit_Category','ID'], axis=1)"
   ]
  },
  {
   "cell_type": "code",
   "execution_count": 35,
   "id": "ebf8e4fc",
   "metadata": {},
   "outputs": [],
   "source": [
    "from sklearn.model_selection import train_test_split, GridSearchCV\n",
    "\n",
    "x_train,x_test,y_train,y_test=train_test_split(x,y,test_size=0.3,random_state=0)"
   ]
  },
  {
   "cell_type": "markdown",
   "id": "2cabf832",
   "metadata": {},
   "source": [
    "#Grid search for hyper parameter tuning"
   ]
  },
  {
   "cell_type": "code",
   "execution_count": 32,
   "id": "9e6a9144",
   "metadata": {},
   "outputs": [],
   "source": [
    "%%capture\n",
    "param_grid = {\n",
    "    'penalty': ['l1', 'l2'],\n",
    "    'C': [0.01, 0.1, 1, 10, 100],\n",
    "    'fit_intercept': [True, False],\n",
    "}"
   ]
  },
  {
   "cell_type": "code",
   "execution_count": 38,
   "id": "114e0414",
   "metadata": {},
   "outputs": [
    {
     "name": "stdout",
     "output_type": "stream",
     "text": [
      "Fitting 5 folds for each of 20 candidates, totalling 100 fits\n"
     ]
    },
    {
     "name": "stderr",
     "output_type": "stream",
     "text": [
      "C:\\Users\\Tammy\\anaconda3\\lib\\site-packages\\sklearn\\model_selection\\_search.py:918: UserWarning: One or more of the test scores are non-finite: [       nan 0.46484336        nan 0.46484336        nan 0.46484336\n",
      "        nan 0.46484336        nan 0.46484336        nan 0.46484336\n",
      "        nan 0.46484336        nan 0.46484336        nan 0.46484336\n",
      "        nan 0.46484336]\n",
      "  warnings.warn(\n"
     ]
    }
   ],
   "source": [
    "grid = GridSearchCV(estimator=LogisticRegression(),\n",
    "                    param_grid=param_grid,\n",
    "                    scoring='roc_auc',\n",
    "                    verbose=1,\n",
    "                    n_jobs=-1)\n",
    "\n",
    "result = grid.fit(x_train, y_train)"
   ]
  },
  {
   "cell_type": "code",
   "execution_count": 40,
   "id": "683a8fe9",
   "metadata": {},
   "outputs": [
    {
     "data": {
      "text/plain": [
       "{'C': 0.01, 'fit_intercept': True, 'penalty': 'l2'}"
      ]
     },
     "execution_count": 40,
     "metadata": {},
     "output_type": "execute_result"
    }
   ],
   "source": [
    "#getting the best parameters for logistic regression\n",
    "grid.best_params_"
   ]
  },
  {
   "cell_type": "code",
   "execution_count": 42,
   "id": "835c0df7",
   "metadata": {},
   "outputs": [],
   "source": [
    "#building the model using Logistic regression Algorithm\n",
    "from sklearn.linear_model import LogisticRegression \n",
    "classifier = LogisticRegression(fit_intercept= True, penalty= 'l2',random_state = 1) \n",
    "classifier.fit(x_train, y_train) \n",
    "pred = classifier.predict(x_test)"
   ]
  },
  {
   "cell_type": "code",
   "execution_count": 41,
   "id": "7707afcd",
   "metadata": {},
   "outputs": [
    {
     "name": "stdout",
     "output_type": "stream",
     "text": [
      "0.4340425531914894\n"
     ]
    }
   ],
   "source": [
    "#F1 test for Logistic regression\n",
    "from sklearn.metrics import f1_score\n",
    "print(f1_score(y_test,pred, average='macro'))"
   ]
  },
  {
   "cell_type": "code",
   "execution_count": 43,
   "id": "322ec6f9",
   "metadata": {},
   "outputs": [],
   "source": [
    "#building the model using Decision Tree Algorithm\n",
    "from sklearn.tree import DecisionTreeClassifier\n",
    "model = DecisionTreeClassifier()\n",
    "model.fit(x_train,y_train)\n",
    "\n",
    "predict = model.predict(x_test)"
   ]
  },
  {
   "cell_type": "code",
   "execution_count": 44,
   "id": "d37f2557",
   "metadata": {},
   "outputs": [
    {
     "name": "stdout",
     "output_type": "stream",
     "text": [
      "0.511800589898212\n"
     ]
    }
   ],
   "source": [
    "#F1 test for Decision Tree\n",
    "print(f1_score(y_test,predict, average='macro'))"
   ]
  },
  {
   "cell_type": "code",
   "execution_count": 45,
   "id": "1f48707b",
   "metadata": {},
   "outputs": [
    {
     "data": {
      "text/html": [
       "<div>\n",
       "<style scoped>\n",
       "    .dataframe tbody tr th:only-of-type {\n",
       "        vertical-align: middle;\n",
       "    }\n",
       "\n",
       "    .dataframe tbody tr th {\n",
       "        vertical-align: top;\n",
       "    }\n",
       "\n",
       "    .dataframe thead th {\n",
       "        text-align: right;\n",
       "    }\n",
       "</style>\n",
       "<table border=\"1\" class=\"dataframe\">\n",
       "  <thead>\n",
       "    <tr style=\"text-align: right;\">\n",
       "      <th></th>\n",
       "      <th>importance</th>\n",
       "    </tr>\n",
       "    <tr>\n",
       "      <th>feature</th>\n",
       "      <th></th>\n",
       "    </tr>\n",
       "  </thead>\n",
       "  <tbody>\n",
       "    <tr>\n",
       "      <th>Balance</th>\n",
       "      <td>0.317</td>\n",
       "    </tr>\n",
       "    <tr>\n",
       "      <th>Age</th>\n",
       "      <td>0.209</td>\n",
       "    </tr>\n",
       "    <tr>\n",
       "      <th>Vintage</th>\n",
       "      <td>0.129</td>\n",
       "    </tr>\n",
       "    <tr>\n",
       "      <th>Product_Holdings</th>\n",
       "      <td>0.051</td>\n",
       "    </tr>\n",
       "    <tr>\n",
       "      <th>Credit_Card</th>\n",
       "      <td>0.040</td>\n",
       "    </tr>\n",
       "    <tr>\n",
       "      <th>Gender</th>\n",
       "      <td>0.039</td>\n",
       "    </tr>\n",
       "    <tr>\n",
       "      <th>Transaction_Status</th>\n",
       "      <td>0.028</td>\n",
       "    </tr>\n",
       "    <tr>\n",
       "      <th>10L-15L</th>\n",
       "      <td>0.023</td>\n",
       "    </tr>\n",
       "    <tr>\n",
       "      <th>Less than 5L</th>\n",
       "      <td>0.022</td>\n",
       "    </tr>\n",
       "    <tr>\n",
       "      <th>5L-10L</th>\n",
       "      <td>0.022</td>\n",
       "    </tr>\n",
       "    <tr>\n",
       "      <th>Poor</th>\n",
       "      <td>0.022</td>\n",
       "    </tr>\n",
       "    <tr>\n",
       "      <th>Average</th>\n",
       "      <td>0.021</td>\n",
       "    </tr>\n",
       "    <tr>\n",
       "      <th>More than 15L</th>\n",
       "      <td>0.019</td>\n",
       "    </tr>\n",
       "    <tr>\n",
       "      <th>Good</th>\n",
       "      <td>0.019</td>\n",
       "    </tr>\n",
       "    <tr>\n",
       "      <th>Genold</th>\n",
       "      <td>0.014</td>\n",
       "    </tr>\n",
       "    <tr>\n",
       "      <th>BabyBoomers</th>\n",
       "      <td>0.008</td>\n",
       "    </tr>\n",
       "    <tr>\n",
       "      <th>yongstar</th>\n",
       "      <td>0.008</td>\n",
       "    </tr>\n",
       "    <tr>\n",
       "      <th>GenX</th>\n",
       "      <td>0.007</td>\n",
       "    </tr>\n",
       "  </tbody>\n",
       "</table>\n",
       "</div>"
      ],
      "text/plain": [
       "                    importance\n",
       "feature                       \n",
       "Balance                  0.317\n",
       "Age                      0.209\n",
       "Vintage                  0.129\n",
       "Product_Holdings         0.051\n",
       "Credit_Card              0.040\n",
       "Gender                   0.039\n",
       "Transaction_Status       0.028\n",
       "10L-15L                  0.023\n",
       "Less than 5L             0.022\n",
       "5L-10L                   0.022\n",
       "Poor                     0.022\n",
       "Average                  0.021\n",
       "More than 15L            0.019\n",
       "Good                     0.019\n",
       "Genold                   0.014\n",
       "BabyBoomers              0.008\n",
       "yongstar                 0.008\n",
       "GenX                     0.007"
      ]
     },
     "execution_count": 45,
     "metadata": {},
     "output_type": "execute_result"
    }
   ],
   "source": [
    "#Checking for feature Importance using Random forest \n",
    "from sklearn.ensemble import RandomForestClassifier\n",
    "random_forest= RandomForestClassifier(n_estimators = 100,random_state = 42)\n",
    "random_forest.fit(x_train, y_train)\n",
    "importances = pd.DataFrame({'feature':x_train.columns,'importance':np.round(random_forest.feature_importances_,3)})\n",
    "importances = importances.sort_values('importance',ascending=False).set_index('feature')\n",
    "importances.head(20)"
   ]
  },
  {
   "cell_type": "code",
   "execution_count": 46,
   "id": "4c9f8e65",
   "metadata": {},
   "outputs": [],
   "source": [
    "#prediction using Random forest\n",
    "predic= random_forest.predict(x_test)"
   ]
  },
  {
   "cell_type": "code",
   "execution_count": 47,
   "id": "2368fdd3",
   "metadata": {},
   "outputs": [
    {
     "name": "stdout",
     "output_type": "stream",
     "text": [
      "0.5252557170610678\n"
     ]
    }
   ],
   "source": [
    "#F1 test and evaluation report for Random Forest Classifier\n",
    "print(f1_score(y_test,predic, average='macro'))"
   ]
  },
  {
   "cell_type": "code",
   "execution_count": 49,
   "id": "59cce366",
   "metadata": {},
   "outputs": [
    {
     "name": "stdout",
     "output_type": "stream",
     "text": [
      "              precision    recall  f1-score   support\n",
      "\n",
      "           0       0.78      0.95      0.86      1530\n",
      "           1       0.42      0.13      0.19       465\n",
      "\n",
      "    accuracy                           0.76      1995\n",
      "   macro avg       0.60      0.54      0.53      1995\n",
      "weighted avg       0.70      0.76      0.70      1995\n",
      "\n"
     ]
    }
   ],
   "source": [
    "from sklearn.metrics import confusion_matrix, classification_report\n",
    "print(classification_report(y_test, predic))"
   ]
  },
  {
   "cell_type": "code",
   "execution_count": 50,
   "id": "c1096d11",
   "metadata": {},
   "outputs": [
    {
     "name": "stderr",
     "output_type": "stream",
     "text": [
      "C:\\Users\\Tammy\\anaconda3\\lib\\site-packages\\sklearn\\svm\\_base.py:985: ConvergenceWarning: Liblinear failed to converge, increase the number of iterations.\n",
      "  warnings.warn(\"Liblinear failed to converge, increase \"\n"
     ]
    }
   ],
   "source": [
    "#building of model using SVC Algorithm\n",
    "linear_svc = LinearSVC(fit_intercept= False, penalty= 'l2') \n",
    "linear_svc.fit(x_train, y_train) \n",
    "predicted = linear_svc.predict(x_test)"
   ]
  },
  {
   "cell_type": "code",
   "execution_count": 51,
   "id": "efc579db",
   "metadata": {},
   "outputs": [
    {
     "name": "stdout",
     "output_type": "stream",
     "text": [
      "0.4340425531914894\n"
     ]
    }
   ],
   "source": [
    "#F1 test for SVC Algorithm\n",
    "print(f1_score(y_test,predicted, average='macro'))"
   ]
  },
  {
   "cell_type": "code",
   "execution_count": 52,
   "id": "e036e397",
   "metadata": {},
   "outputs": [],
   "source": [
    "#Standadizing the dataset for better model performance\n",
    "from sklearn.preprocessing import StandardScaler\n",
    "sc = StandardScaler()\n",
    "x_train = sc.fit_transform(x_train)\n",
    "x_test = sc.transform(x_test)"
   ]
  },
  {
   "cell_type": "code",
   "execution_count": 75,
   "id": "b188d3e8",
   "metadata": {},
   "outputs": [],
   "source": [
    "from sklearn.preprocessing import StandardScaler\n",
    "sc = StandardScaler()\n",
    "testdf = sc.fit_transform(testdf)"
   ]
  },
  {
   "cell_type": "code",
   "execution_count": 53,
   "id": "bce4ec63",
   "metadata": {},
   "outputs": [
    {
     "data": {
      "text/plain": [
       "GaussianNB()"
      ]
     },
     "execution_count": 53,
     "metadata": {},
     "output_type": "execute_result"
    }
   ],
   "source": [
    "#building of model using Naive Bayes\n",
    "from sklearn.naive_bayes import GaussianNB\n",
    "nbclassifier = GaussianNB()\n",
    "nbclassifier.fit(x_train, y_train)"
   ]
  },
  {
   "cell_type": "code",
   "execution_count": 54,
   "id": "7b71787b",
   "metadata": {},
   "outputs": [],
   "source": [
    "y_pred  =  nbclassifier.predict(x_test)"
   ]
  },
  {
   "cell_type": "code",
   "execution_count": 55,
   "id": "15007eed",
   "metadata": {},
   "outputs": [
    {
     "name": "stdout",
     "output_type": "stream",
     "text": [
      "0.5776946013950949\n"
     ]
    }
   ],
   "source": [
    "#F1 test and evaluation for Naive Bayes\n",
    "print(f1_score(y_test,y_pred, average='macro'))"
   ]
  },
  {
   "cell_type": "code",
   "execution_count": 56,
   "id": "5932b1b6",
   "metadata": {},
   "outputs": [
    {
     "name": "stdout",
     "output_type": "stream",
     "text": [
      "              precision    recall  f1-score   support\n",
      "\n",
      "           0       0.80      0.82      0.81      1530\n",
      "           1       0.36      0.34      0.35       465\n",
      "\n",
      "    accuracy                           0.70      1995\n",
      "   macro avg       0.58      0.58      0.58      1995\n",
      "weighted avg       0.70      0.70      0.70      1995\n",
      "\n"
     ]
    }
   ],
   "source": [
    "print(classification_report(y_test, y_pred))"
   ]
  },
  {
   "cell_type": "code",
   "execution_count": 58,
   "id": "deabd1f3",
   "metadata": {},
   "outputs": [
    {
     "name": "stdout",
     "output_type": "stream",
     "text": [
      "[18:49:32] WARNING: C:/Users/Administrator/workspace/xgboost-win64_release_1.5.1/src/learner.cc:1115: Starting in XGBoost 1.3.0, the default evaluation metric used with the objective 'binary:logistic' was changed from 'error' to 'logloss'. Explicitly set eval_metric if you'd like to restore the old behavior.\n"
     ]
    }
   ],
   "source": [
    "#building of model using xgboost\n",
    "import xgboost as xgb\n",
    "xg_reg = xgb.XGBClassifier()\n",
    "xg_reg.fit(x_train,y_train)\n",
    "\n",
    "preds = xg_reg.predict(x_test)"
   ]
  },
  {
   "cell_type": "code",
   "execution_count": 59,
   "id": "9d114f29",
   "metadata": {},
   "outputs": [
    {
     "name": "stdout",
     "output_type": "stream",
     "text": [
      "0.503451871936594\n"
     ]
    }
   ],
   "source": [
    "#F1 test and evaluation for xgboost\n",
    "print(f1_score(y_test,preds, average='macro'))"
   ]
  },
  {
   "cell_type": "code",
   "execution_count": 60,
   "id": "5fa02166",
   "metadata": {},
   "outputs": [
    {
     "data": {
      "text/plain": [
       "array([[1247,  283],\n",
       "       [ 308,  157]], dtype=int64)"
      ]
     },
     "execution_count": 60,
     "metadata": {},
     "output_type": "execute_result"
    }
   ],
   "source": [
    "#confusiom matrix to visualize model performance\n",
    "from sklearn.metrics import confusion_matrix\n",
    "cm = confusion_matrix(y_test,y_pred)\n",
    "cm"
   ]
  },
  {
   "cell_type": "markdown",
   "id": "1558ad43",
   "metadata": {},
   "source": [
    "#Prediction using the test data"
   ]
  },
  {
   "cell_type": "code",
   "execution_count": 77,
   "id": "4dbcd5cd",
   "metadata": {},
   "outputs": [],
   "source": [
    "submission_file=pd.read_csv('sample_OoSmYo5.csv')"
   ]
  },
  {
   "cell_type": "code",
   "execution_count": 79,
   "id": "5da57f4e",
   "metadata": {},
   "outputs": [],
   "source": [
    "submission_file[\"Is_Churn\"] =nbclassifier.predict(testdf)"
   ]
  },
  {
   "cell_type": "code",
   "execution_count": 80,
   "id": "5f8f5935",
   "metadata": {},
   "outputs": [],
   "source": [
    "#1st submission file \n",
    "submission_file.to_csv('ibitamuno_submission.csv',index=False) "
   ]
  },
  {
   "cell_type": "code",
   "execution_count": 81,
   "id": "bd1b584c",
   "metadata": {},
   "outputs": [],
   "source": [
    "submission_file[\"Is_Churn\"] =random_forest.predict(testdf)"
   ]
  },
  {
   "cell_type": "code",
   "execution_count": 82,
   "id": "ba3ec872",
   "metadata": {},
   "outputs": [],
   "source": [
    "#2nd submission file \n",
    "submission_file.to_csv('ibitamuno2_submission.csv',index=False) "
   ]
  },
  {
   "cell_type": "code",
   "execution_count": 83,
   "id": "b23fac41",
   "metadata": {},
   "outputs": [],
   "source": [
    "submission_file[\"Is_Churn\"] =xg_reg.predict(testdf)"
   ]
  },
  {
   "cell_type": "code",
   "execution_count": 84,
   "id": "adaa59dd",
   "metadata": {},
   "outputs": [],
   "source": [
    "#3rd submission file \n",
    "submission_file.to_csv('ibitamuno3_submission.csv',index=False) "
   ]
  },
  {
   "cell_type": "code",
   "execution_count": 89,
   "id": "33aab864",
   "metadata": {},
   "outputs": [],
   "source": [
    "#model building using extar trees classifier\n",
    "from sklearn.ensemble import ExtraTreesClassifier\n",
    "clf = ExtraTreesClassifier(n_estimators=100, random_state=0)\n",
    "clf.fit(x_train,y_train)\n",
    "predo = clf.predict(x_test)"
   ]
  },
  {
   "cell_type": "code",
   "execution_count": 90,
   "id": "02da2a9a",
   "metadata": {},
   "outputs": [
    {
     "name": "stdout",
     "output_type": "stream",
     "text": [
      "0.5266483854842098\n"
     ]
    }
   ],
   "source": [
    "#F1 test and evaluation for extra trees classifier\n",
    "print(f1_score(y_test,predo, average='macro'))"
   ]
  },
  {
   "cell_type": "code",
   "execution_count": 91,
   "id": "d43bb2ab",
   "metadata": {},
   "outputs": [],
   "source": [
    "submission_file[\"Is_Churn\"] =clf.predict(testdf)"
   ]
  },
  {
   "cell_type": "code",
   "execution_count": 92,
   "id": "29c8b6ae",
   "metadata": {},
   "outputs": [],
   "source": [
    "#4th submission file \n",
    "submission_file.to_csv('ibitamuno4_submission.csv',index=False) "
   ]
  },
  {
   "cell_type": "code",
   "execution_count": 93,
   "id": "44731ee8",
   "metadata": {},
   "outputs": [],
   "source": [
    "#model building using GradientBoostingClassifier\n",
    "from sklearn.ensemble import GradientBoostingClassifier\n",
    "gbc = GradientBoostingClassifier(n_estimators=100, learning_rate=1.0, max_depth=1, random_state=0)\n",
    "gbc.fit(x_train, y_train)\n",
    "\n",
    "Prediv= gbc.predict(x_test)"
   ]
  },
  {
   "cell_type": "code",
   "execution_count": 94,
   "id": "80ad6b72",
   "metadata": {},
   "outputs": [],
   "source": [
    "submission_file[\"Is_Churn\"] =gbc.predict(testdf)"
   ]
  },
  {
   "cell_type": "code",
   "execution_count": 95,
   "id": "f100b03a",
   "metadata": {},
   "outputs": [],
   "source": [
    "#5th submission file \n",
    "submission_file.to_csv('ibitamuno5_submission.csv',index=False) "
   ]
  },
  {
   "cell_type": "code",
   "execution_count": 96,
   "id": "c348e7ed",
   "metadata": {},
   "outputs": [],
   "source": [
    "submission_file[\"Is_Churn\"] =model.predict(testdf)"
   ]
  },
  {
   "cell_type": "code",
   "execution_count": 97,
   "id": "bb5529f4",
   "metadata": {},
   "outputs": [],
   "source": [
    "#6th submission file \n",
    "submission_file.to_csv('ibitamuno6_submission.csv',index=False) "
   ]
  },
  {
   "cell_type": "code",
   "execution_count": null,
   "id": "f767980c",
   "metadata": {},
   "outputs": [],
   "source": []
  }
 ],
 "metadata": {
  "kernelspec": {
   "display_name": "Python 3",
   "language": "python",
   "name": "python3"
  },
  "language_info": {
   "codemirror_mode": {
    "name": "ipython",
    "version": 3
   },
   "file_extension": ".py",
   "mimetype": "text/x-python",
   "name": "python",
   "nbconvert_exporter": "python",
   "pygments_lexer": "ipython3",
   "version": "3.8.8"
  }
 },
 "nbformat": 4,
 "nbformat_minor": 5
}
